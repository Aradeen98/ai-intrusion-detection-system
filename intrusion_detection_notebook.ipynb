{
 "cells": [
  {
   "cell_type": "markdown",
   "metadata": {},
   "source": [
    "# 🛡️ AI Intrusion Detection System\n",
    "Using Random Forest and Anomaly-Based Machine Learning\n",
    "\n",
    "This notebook demonstrates how to detect network intrusions with machine-learning techniques on synthetic data."
   ]
  },
  {
   "cell_type": "code",
   "metadata": {},
   "source": [
    "import pandas as pd\n",
    "from sklearn.model_selection import train_test_split\n",
    "from sklearn.preprocessing import LabelEncoder, StandardScaler\n",
    "from sklearn.ensemble import RandomForestClassifier\n",
    "from sklearn.metrics import accuracy_score\n",
    "\n",
    "# --- Sample synthetic dataset ---\n",
    "data = {\n",
    "    'duration': [10, 0, 5, 2, 8, 20],\n",
    "    'protocol': ['tcp', 'udp', 'tcp', 'icmp', 'tcp', 'udp'],\n",
    "    'src_bytes': [100, 2000, 300, 50, 1200, 400],\n",
    "    'dst_bytes': [500, 0, 100, 2000, 100, 20],\n",
    "    'flag': ['SF', 'REJ', 'SF', 'SF', 'S0', 'REJ'],\n",
    "    'intrusion': [0, 1, 0, 0, 1, 1]\n",
    "}\n",
    "df = pd.DataFrame(data)\n",
    "\n",
    "# Encode categorical features\n",
    "enc = LabelEncoder()\n",
    "df['protocol'] = enc.fit_transform(df['protocol'])\n",
    "df['flag'] = enc.fit_transform(df['flag'])\n",
    "\n",
    "X = df.drop('intrusion', axis=1)\n",
    "y = df['intrusion']\n",
    "\n",
    "scaler = StandardScaler()\n",
    "X_scaled = scaler.fit_transform(X)\n",
    "\n",
    "# Split and train\n",
    "X_train, X_test, y_train, y_test = train_test_split(X_scaled, y, test_size=0.3, random_state=42)\n",
    "model = RandomForestClassifier(random_state=42)\n",
    "model.fit(X_train, y_train)\n",
    "\n",
    "# Evaluate\n",
    "preds = model.predict(X_test)\n",
    "acc = accuracy_score(y_test, preds)\n",
    "print(f'Model Accuracy: {acc*100:.2f}%')"
   ]
  }
 ],
 "metadata": {},
 "nbformat": 4,
 "nbformat_minor": 5
}
